{
 "cells": [
  {
   "cell_type": "markdown",
   "id": "9fcbb343",
   "metadata": {},
   "source": [
    "\n",
    "# 🔍 Strategy Comparison for VLM-Based Recommendations\n",
    "\n",
    "This notebook compares the following retrieval strategies:\n",
    "- Basic image embedding\n",
    "- Dual-mode image+text fusion\n",
    "- Cosine reranking\n",
    "- Personalized query fusion\n",
    "- Metadata filtering\n",
    "\n",
    "Metrics: Cosine distance, category match ratio, visual similarity (manual), etc.\n"
   ]
  },
  {
   "cell_type": "code",
   "execution_count": null,
   "id": "1563b763",
   "metadata": {
    "vscode": {
     "languageId": "plaintext"
    }
   },
   "outputs": [],
   "source": [
    "import numpy as np\n",
    "import pandas as pd\n",
    "from PIL import Image\n",
    "from app.model import VLMEncoder\n",
    "from scipy.spatial.distance import cosine\n",
    "import matplotlib.pyplot as plt\n",
    "import seaborn as sns\n",
    "\n",
    "encoder = VLMEncoder()\n",
    "df = pd.read_csv(\"../data/processed/catalog.csv\")\n",
    "\n",
    "# Sample image & prompt\n",
    "img = Image.open(\"../data/raw/images/Folder/image1.jpg\").convert(\"RGB\")\n",
    "prompt = \"something like this but in black\"\n",
    "user_vec = np.random.rand(768)\n",
    "\n",
    "vec_basic = encoder.encode(img)\n",
    "vec_dual = encoder.encode_dual(img, prompt)\n",
    "vec_personal = encoder.encode_personalized(img, prompt, user_vec)\n",
    "\n",
    "# Embed dataset\n",
    "catalog_vecs = []\n",
    "categories = []\n",
    "for _, row in df.iterrows():\n",
    "    try:\n",
    "        i = Image.open(f\"../data/raw/images/{row['image_path']}\").convert(\"RGB\")\n",
    "        v = encoder.encode_dual(i, row.get(\"description\", \"\"))\n",
    "        catalog_vecs.append(v)\n",
    "        categories.append(row.get(\"category\", \"unknown\"))\n",
    "    except:\n",
    "        continue\n",
    "\n",
    "catalog_vecs = np.stack(catalog_vecs)\n",
    "\n",
    "# Compute similarities\n",
    "sim_basic = np.array([1 - cosine(vec_basic, v) for v in catalog_vecs])\n",
    "sim_dual = np.array([1 - cosine(vec_dual, v) for v in catalog_vecs])\n",
    "sim_personal = np.array([1 - cosine(vec_personal, v) for v in catalog_vecs])\n",
    "\n",
    "# Top-k and stats\n",
    "k = 5\n",
    "def top_k_info(similarity, label):\n",
    "    top_idx = np.argsort(similarity)[::-1][:k]\n",
    "    top_scores = similarity[top_idx]\n",
    "    top_cats = [categories[i] for i in top_idx]\n",
    "    print(f\"\\n[{label}] Top-K Cosine Similarities:\", top_scores)\n",
    "    print(f\"[{label}] Top-K Categories:\", top_cats)\n",
    "    return top_scores, top_cats\n",
    "\n",
    "b_scores, b_cats = top_k_info(sim_basic, \"Basic\")\n",
    "d_scores, d_cats = top_k_info(sim_dual, \"Dual\")\n",
    "p_scores, p_cats = top_k_info(sim_personal, \"Personalized\")\n",
    "\n",
    "# Plot score distribution\n",
    "plt.figure(figsize=(10, 6))\n",
    "sns.histplot(sim_basic, kde=True, label=\"Basic\", color=\"blue\")\n",
    "sns.histplot(sim_dual, kde=True, label=\"Dual\", color=\"green\")\n",
    "sns.histplot(sim_personal, kde=True, label=\"Personalized\", color=\"red\")\n",
    "plt.legend()\n",
    "plt.title(\"Similarity Score Distributions\")\n",
    "plt.xlabel(\"Cosine Similarity\")\n",
    "plt.ylabel(\"Frequency\")\n",
    "plt.show()\n"
   ]
  },
  {
   "cell_type": "code",
   "execution_count": null,
   "id": "67840dfc",
   "metadata": {
    "vscode": {
     "languageId": "plaintext"
    }
   },
   "outputs": [],
   "source": []
  }
 ],
 "metadata": {
  "language_info": {
   "name": "python"
  }
 },
 "nbformat": 4,
 "nbformat_minor": 5
}
